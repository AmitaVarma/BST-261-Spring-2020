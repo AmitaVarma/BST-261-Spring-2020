{
  "nbformat": 4,
  "nbformat_minor": 0,
  "metadata": {
    "colab": {
      "name": "MLPs.ipynb",
      "provenance": [],
      "collapsed_sections": []
    },
    "kernelspec": {
      "name": "python3",
      "display_name": "Python 3"
    }
  },
  "cells": [
    {
      "cell_type": "markdown",
      "metadata": {
        "id": "w3pRFu31UBCF",
        "colab_type": "text"
      },
      "source": [
        "# Feedforward Networks"
      ]
    },
    {
      "cell_type": "code",
      "metadata": {
        "id": "5L27ecElT9K5",
        "colab_type": "code",
        "outputId": "7969ee02-fafd-4ea2-8d9b-b20da9d8df0a",
        "colab": {
          "base_uri": "https://localhost:8080/",
          "height": 505
        }
      },
      "source": [
        "# Load all necessary libraries\n",
        "from __future__ import absolute_import, division, print_function, unicode_literals\n",
        "try:\n",
        "  # %tensorflow_version only exists in Colab.\n",
        "  %tensorflow_version 2.x\n",
        "except Exception:\n",
        "  pass\n",
        "import tensorflow as tf\n",
        "import tensorflow_datasets as tfds\n",
        "!pip install tensorflow-hub\n",
        "!pip install tfds-nightly\n",
        "import tensorflow_hub as hub\n",
        "import numpy as np\n",
        "import keras\n",
        "import pandas as pd\n",
        "from keras.utils import to_categorical\n",
        "import matplotlib.pyplot as plt\n",
        "%matplotlib inline"
      ],
      "execution_count": 0,
      "outputs": [
        {
          "output_type": "stream",
          "text": [
            "TensorFlow 2.x selected.\n",
            "Requirement already satisfied: tensorflow-hub in /usr/local/lib/python3.6/dist-packages (0.7.0)\n",
            "Requirement already satisfied: six>=1.10.0 in /usr/local/lib/python3.6/dist-packages (from tensorflow-hub) (1.12.0)\n",
            "Requirement already satisfied: numpy>=1.12.0 in /usr/local/lib/python3.6/dist-packages (from tensorflow-hub) (1.18.2)\n",
            "Requirement already satisfied: protobuf>=3.4.0 in /usr/local/lib/python3.6/dist-packages (from tensorflow-hub) (3.10.0)\n",
            "Requirement already satisfied: setuptools in /usr/local/lib/python3.6/dist-packages (from protobuf>=3.4.0->tensorflow-hub) (46.0.0)\n",
            "Requirement already satisfied: tfds-nightly in /usr/local/lib/python3.6/dist-packages (2.1.0.dev202003190105)\n",
            "Requirement already satisfied: protobuf>=3.6.1 in /usr/local/lib/python3.6/dist-packages (from tfds-nightly) (3.10.0)\n",
            "Requirement already satisfied: absl-py in /usr/local/lib/python3.6/dist-packages (from tfds-nightly) (0.9.0)\n",
            "Requirement already satisfied: requests>=2.19.0 in /usr/local/lib/python3.6/dist-packages (from tfds-nightly) (2.21.0)\n",
            "Requirement already satisfied: promise in /usr/local/lib/python3.6/dist-packages (from tfds-nightly) (2.3)\n",
            "Requirement already satisfied: attrs>=18.1.0 in /usr/local/lib/python3.6/dist-packages (from tfds-nightly) (19.3.0)\n",
            "Requirement already satisfied: numpy in /usr/local/lib/python3.6/dist-packages (from tfds-nightly) (1.18.2)\n",
            "Requirement already satisfied: six in /usr/local/lib/python3.6/dist-packages (from tfds-nightly) (1.12.0)\n",
            "Requirement already satisfied: termcolor in /usr/local/lib/python3.6/dist-packages (from tfds-nightly) (1.1.0)\n",
            "Requirement already satisfied: future in /usr/local/lib/python3.6/dist-packages (from tfds-nightly) (0.16.0)\n",
            "Requirement already satisfied: dill in /usr/local/lib/python3.6/dist-packages (from tfds-nightly) (0.3.1.1)\n",
            "Requirement already satisfied: wrapt in /usr/local/lib/python3.6/dist-packages (from tfds-nightly) (1.12.1)\n",
            "Requirement already satisfied: tqdm in /usr/local/lib/python3.6/dist-packages (from tfds-nightly) (4.38.0)\n",
            "Requirement already satisfied: tensorflow-metadata in /usr/local/lib/python3.6/dist-packages (from tfds-nightly) (0.21.1)\n",
            "Requirement already satisfied: setuptools in /usr/local/lib/python3.6/dist-packages (from protobuf>=3.6.1->tfds-nightly) (46.0.0)\n",
            "Requirement already satisfied: certifi>=2017.4.17 in /usr/local/lib/python3.6/dist-packages (from requests>=2.19.0->tfds-nightly) (2019.11.28)\n",
            "Requirement already satisfied: idna<2.9,>=2.5 in /usr/local/lib/python3.6/dist-packages (from requests>=2.19.0->tfds-nightly) (2.8)\n",
            "Requirement already satisfied: urllib3<1.25,>=1.21.1 in /usr/local/lib/python3.6/dist-packages (from requests>=2.19.0->tfds-nightly) (1.24.3)\n",
            "Requirement already satisfied: chardet<3.1.0,>=3.0.2 in /usr/local/lib/python3.6/dist-packages (from requests>=2.19.0->tfds-nightly) (3.0.4)\n",
            "Requirement already satisfied: googleapis-common-protos in /usr/local/lib/python3.6/dist-packages (from tensorflow-metadata->tfds-nightly) (1.51.0)\n"
          ],
          "name": "stdout"
        },
        {
          "output_type": "stream",
          "text": [
            "Using TensorFlow backend.\n"
          ],
          "name": "stderr"
        }
      ]
    },
    {
      "cell_type": "markdown",
      "metadata": {
        "id": "l9UsXBmP8Do-",
        "colab_type": "text"
      },
      "source": [
        "# MNIST Example\n",
        "The MNIST data set includes handwritten digits with corresponding labels. \n",
        "* Training set: 60,000 images of handwritten digits and corresponding labels. Each digit is represented as a 28 x 28 matrix of grayscale values 0 - 255. The entire training set is stored in a 3D tensor of shape (60000, 28, 28). \n",
        "* The corresponding image values are stored as a 1D tensor of values 0 - 9. Testing set: 10,000 images with the same set up as the training set\n"
      ]
    },
    {
      "cell_type": "code",
      "metadata": {
        "id": "h3ap7ivPhNUw",
        "colab_type": "code",
        "colab": {}
      },
      "source": [
        "# The MNIST dataset is one of the built-in datasets available through keras\n",
        "mnist = tf.keras.datasets.mnist\n",
        "\n",
        "# Load data\n",
        "(x_train, y_train), (x_test, y_test) = mnist.load_data()\n",
        "# Divide numbers by 255 to scale between 0 and 1\n",
        "x_train, x_test = x_train / 255.0, x_test / 255.0\n",
        "\n",
        "# Make labels into vectors of 0s and 1s\n",
        "y_train = to_categorical(y_train)\n",
        "y_test  = to_categorical(y_test)\n"
      ],
      "execution_count": 0,
      "outputs": []
    },
    {
      "cell_type": "code",
      "metadata": {
        "id": "54IIjk8Sk0Sr",
        "colab_type": "code",
        "outputId": "98e4d614-5c09-4ac0-dc35-7b1ffa6a5fe7",
        "colab": {
          "base_uri": "https://localhost:8080/",
          "height": 265
        }
      },
      "source": [
        "# Let's take a look at one of the training examples\n",
        "digit = x_train[4] # Randomly chose index 4 \n",
        "plt.imshow(digit, cmap = plt.cm.binary)\n",
        "plt.show()"
      ],
      "execution_count": 0,
      "outputs": [
        {
          "output_type": "display_data",
          "data": {
            "image/png": "[encoded data removed]",
            "text/plain": [
              "<Figure size 432x288 with 1 Axes>"
            ]
          },
          "metadata": {
            "tags": []
          }
        }
      ]
    },
    {
      "cell_type": "code",
      "metadata": {
        "id": "oqRGVEbYk7SX",
        "colab_type": "code",
        "outputId": "160a59d4-17bf-4409-8143-955a409fef2a",
        "colab": {
          "base_uri": "https://localhost:8080/",
          "height": 35
        }
      },
      "source": [
        "# Let's look at how many training examples we have\n",
        "x_train.shape"
      ],
      "execution_count": 0,
      "outputs": [
        {
          "output_type": "execute_result",
          "data": {
            "text/plain": [
              "(60000, 28, 28)"
            ]
          },
          "metadata": {
            "tags": []
          },
          "execution_count": 4
        }
      ]
    },
    {
      "cell_type": "code",
      "metadata": {
        "id": "lKUpVYPnkKKC",
        "colab_type": "code",
        "outputId": "aa838a0d-003f-4359-ab2d-8a08fd8faa8c",
        "colab": {
          "base_uri": "https://localhost:8080/",
          "height": 225
        }
      },
      "source": [
        "# Define model\n",
        "model = tf.keras.models.Sequential([\n",
        "  # Make 28x28 image a vector of length 28*28 = 784 with Flatten\n",
        "  tf.keras.layers.Flatten(input_shape=(28, 28)),\n",
        "  # Layer 1 (Hidden layer)\n",
        "  tf.keras.layers.Dense(512, activation='relu'),\n",
        "  # Layer 2 (Output layer)\n",
        "  tf.keras.layers.Dense(10, activation='softmax')\n",
        "])\n",
        "\n",
        "# Define how to execute training\n",
        "model.compile(optimizer='rmsprop',\n",
        "              loss='categorical_crossentropy',\n",
        "              metrics=['accuracy'])\n",
        "\n",
        "# Train the network\n",
        "model.fit(x_train, y_train, epochs=5, batch_size=128)"
      ],
      "execution_count": 0,
      "outputs": [
        {
          "output_type": "stream",
          "text": [
            "Train on 60000 samples\n",
            "Epoch 1/5\n",
            "60000/60000 [==============================] - 5s 83us/sample - loss: 0.2549 - accuracy: 0.9268\n",
            "Epoch 2/5\n",
            "60000/60000 [==============================] - 5s 75us/sample - loss: 0.1025 - accuracy: 0.9694\n",
            "Epoch 3/5\n",
            "60000/60000 [==============================] - 4s 74us/sample - loss: 0.0675 - accuracy: 0.9794\n",
            "Epoch 4/5\n",
            "60000/60000 [==============================] - 4s 72us/sample - loss: 0.0492 - accuracy: 0.9852\n",
            "Epoch 5/5\n",
            "60000/60000 [==============================] - 4s 74us/sample - loss: 0.0377 - accuracy: 0.9886\n"
          ],
          "name": "stdout"
        },
        {
          "output_type": "execute_result",
          "data": {
            "text/plain": [
              "<tensorflow.python.keras.callbacks.History at 0x7f8309a57f98>"
            ]
          },
          "metadata": {
            "tags": []
          },
          "execution_count": 5
        }
      ]
    },
    {
      "cell_type": "code",
      "metadata": {
        "id": "_hacIXaVkxEQ",
        "colab_type": "code",
        "outputId": "32799ac9-9704-4018-a36c-df7edbf309c7",
        "colab": {
          "base_uri": "https://localhost:8080/",
          "height": 52
        }
      },
      "source": [
        "# Evaluate the model with test data\n",
        "model.evaluate(x_test,  y_test, verbose=2)"
      ],
      "execution_count": 0,
      "outputs": [
        {
          "output_type": "stream",
          "text": [
            "10000/10000 - 1s - loss: 0.0711 - accuracy: 0.9788\n"
          ],
          "name": "stdout"
        },
        {
          "output_type": "execute_result",
          "data": {
            "text/plain": [
              "[0.07107335027277004, 0.9788]"
            ]
          },
          "metadata": {
            "tags": []
          },
          "execution_count": 6
        }
      ]
    },
    {
      "cell_type": "markdown",
      "metadata": {
        "id": "ZoFth8NwoQJ5",
        "colab_type": "text"
      },
      "source": [
        "The first value of the output is the test set loss. The second value in the test set accuracy. We see we get a test set accuracy of 97.88%. Note that this accuracy is slightly lower than the training set accuracy from the final epoch. This gap between training accuracy and test accuracy is an example of \"overfitting\", the fact that machine learning models tend to perform worse on new data than on their training data. We'll cover this topic in a later lecture. \n",
        "\n"
      ]
    },
    {
      "cell_type": "markdown",
      "metadata": {
        "id": "jVh8IvPPsOYh",
        "colab_type": "text"
      },
      "source": [
        "# IMDb Example\n",
        "We'll use the IMDB dataset that contains the text of 50,000 movie reviews from the Internet Movie Database. These are split into 25,000 reviews for training and 25,000 reviews for testing. The training and testing sets are balanced, meaning they contain an equal number of positive and negative reviews."
      ]
    },
    {
      "cell_type": "code",
      "metadata": {
        "id": "ZIE3Zi0eHAeC",
        "colab_type": "code",
        "outputId": "541b1d3a-987d-4bc8-c49a-cea9e10ba08c",
        "colab": {
          "base_uri": "https://localhost:8080/",
          "height": 52
        }
      },
      "source": [
        "imdb = tf.keras.datasets.imdb\n",
        "(train_data, train_labels), (test_data, test_labels) = imdb.load_data(num_words=10000)"
      ],
      "execution_count": 0,
      "outputs": [
        {
          "output_type": "stream",
          "text": [
            "Downloading data from https://storage.googleapis.com/tensorflow/tf-keras-datasets/imdb.npz\n",
            "17465344/17464789 [==============================] - 0s 0us/step\n"
          ],
          "name": "stdout"
        }
      ]
    },
    {
      "cell_type": "markdown",
      "metadata": {
        "id": "SsJq1oNBHuE7",
        "colab_type": "text"
      },
      "source": [
        "The argument `num_words=10000` means that we will only keep the top 10,000 most frequently occurring words in the training data. Rare words will be discarded. This allows us to work with vector data of manageable size.\n",
        "\n",
        "The variables `train_data` and `test_data` are lists of reviews, each review being a list of word indices (encoding a sequence of words). `train_labels` and `test_labels` are lists of 0s and 1s, where 0 stands for \"negative\" and 1 stands for \"positive\":"
      ]
    },
    {
      "cell_type": "code",
      "metadata": {
        "id": "ZRvDqz7XHmPb",
        "colab_type": "code",
        "outputId": "05d0b779-5ca3-4c8e-8ce4-0c54661aafbc",
        "colab": {
          "base_uri": "https://localhost:8080/",
          "height": 1000
        }
      },
      "source": [
        "train_data[0]"
      ],
      "execution_count": 0,
      "outputs": [
        {
          "output_type": "execute_result",
          "data": {
            "text/plain": [
              "[1,\n",
              " 14,\n",
              " 22,\n",
              " 16,\n",
              " 43,\n",
              " 530,\n",
              " 973,\n",
              " 1622,\n",
              " 1385,\n",
              " 65,\n",
              " 458,\n",
              " 4468,\n",
              " 66,\n",
              " 3941,\n",
              " 4,\n",
              " 173,\n",
              " 36,\n",
              " 256,\n",
              " 5,\n",
              " 25,\n",
              " 100,\n",
              " 43,\n",
              " 838,\n",
              " 112,\n",
              " 50,\n",
              " 670,\n",
              " 2,\n",
              " 9,\n",
              " 35,\n",
              " 480,\n",
              " 284,\n",
              " 5,\n",
              " 150,\n",
              " 4,\n",
              " 172,\n",
              " 112,\n",
              " 167,\n",
              " 2,\n",
              " 336,\n",
              " 385,\n",
              " 39,\n",
              " 4,\n",
              " 172,\n",
              " 4536,\n",
              " 1111,\n",
              " 17,\n",
              " 546,\n",
              " 38,\n",
              " 13,\n",
              " 447,\n",
              " 4,\n",
              " 192,\n",
              " 50,\n",
              " 16,\n",
              " 6,\n",
              " 147,\n",
              " 2025,\n",
              " 19,\n",
              " 14,\n",
              " 22,\n",
              " 4,\n",
              " 1920,\n",
              " 4613,\n",
              " 469,\n",
              " 4,\n",
              " 22,\n",
              " 71,\n",
              " 87,\n",
              " 12,\n",
              " 16,\n",
              " 43,\n",
              " 530,\n",
              " 38,\n",
              " 76,\n",
              " 15,\n",
              " 13,\n",
              " 1247,\n",
              " 4,\n",
              " 22,\n",
              " 17,\n",
              " 515,\n",
              " 17,\n",
              " 12,\n",
              " 16,\n",
              " 626,\n",
              " 18,\n",
              " 2,\n",
              " 5,\n",
              " 62,\n",
              " 386,\n",
              " 12,\n",
              " 8,\n",
              " 316,\n",
              " 8,\n",
              " 106,\n",
              " 5,\n",
              " 4,\n",
              " 2223,\n",
              " 5244,\n",
              " 16,\n",
              " 480,\n",
              " 66,\n",
              " 3785,\n",
              " 33,\n",
              " 4,\n",
              " 130,\n",
              " 12,\n",
              " 16,\n",
              " 38,\n",
              " 619,\n",
              " 5,\n",
              " 25,\n",
              " 124,\n",
              " 51,\n",
              " 36,\n",
              " 135,\n",
              " 48,\n",
              " 25,\n",
              " 1415,\n",
              " 33,\n",
              " 6,\n",
              " 22,\n",
              " 12,\n",
              " 215,\n",
              " 28,\n",
              " 77,\n",
              " 52,\n",
              " 5,\n",
              " 14,\n",
              " 407,\n",
              " 16,\n",
              " 82,\n",
              " 2,\n",
              " 8,\n",
              " 4,\n",
              " 107,\n",
              " 117,\n",
              " 5952,\n",
              " 15,\n",
              " 256,\n",
              " 4,\n",
              " 2,\n",
              " 7,\n",
              " 3766,\n",
              " 5,\n",
              " 723,\n",
              " 36,\n",
              " 71,\n",
              " 43,\n",
              " 530,\n",
              " 476,\n",
              " 26,\n",
              " 400,\n",
              " 317,\n",
              " 46,\n",
              " 7,\n",
              " 4,\n",
              " 2,\n",
              " 1029,\n",
              " 13,\n",
              " 104,\n",
              " 88,\n",
              " 4,\n",
              " 381,\n",
              " 15,\n",
              " 297,\n",
              " 98,\n",
              " 32,\n",
              " 2071,\n",
              " 56,\n",
              " 26,\n",
              " 141,\n",
              " 6,\n",
              " 194,\n",
              " 7486,\n",
              " 18,\n",
              " 4,\n",
              " 226,\n",
              " 22,\n",
              " 21,\n",
              " 134,\n",
              " 476,\n",
              " 26,\n",
              " 480,\n",
              " 5,\n",
              " 144,\n",
              " 30,\n",
              " 5535,\n",
              " 18,\n",
              " 51,\n",
              " 36,\n",
              " 28,\n",
              " 224,\n",
              " 92,\n",
              " 25,\n",
              " 104,\n",
              " 4,\n",
              " 226,\n",
              " 65,\n",
              " 16,\n",
              " 38,\n",
              " 1334,\n",
              " 88,\n",
              " 12,\n",
              " 16,\n",
              " 283,\n",
              " 5,\n",
              " 16,\n",
              " 4472,\n",
              " 113,\n",
              " 103,\n",
              " 32,\n",
              " 15,\n",
              " 16,\n",
              " 5345,\n",
              " 19,\n",
              " 178,\n",
              " 32]"
            ]
          },
          "metadata": {
            "tags": []
          },
          "execution_count": 3
        }
      ]
    },
    {
      "cell_type": "code",
      "metadata": {
        "id": "TC5s3ufPH6ni",
        "colab_type": "code",
        "outputId": "271bd24e-ebbe-4273-8ef6-55a8e9ad3418",
        "colab": {
          "base_uri": "https://localhost:8080/",
          "height": 35
        }
      },
      "source": [
        "train_labels[0]"
      ],
      "execution_count": 0,
      "outputs": [
        {
          "output_type": "execute_result",
          "data": {
            "text/plain": [
              "1"
            ]
          },
          "metadata": {
            "tags": []
          },
          "execution_count": 4
        }
      ]
    },
    {
      "cell_type": "code",
      "metadata": {
        "id": "1pb1alkIH-IE",
        "colab_type": "code",
        "outputId": "a59e81ce-4e9d-4451-fe61-88c2545d5f34",
        "colab": {
          "base_uri": "https://localhost:8080/",
          "height": 72
        }
      },
      "source": [
        "# word_index is a dictionary mapping words to an integer index\n",
        "word_index = imdb.get_word_index()\n",
        "# We reverse it, mapping integer indices to words\n",
        "reverse_word_index = dict([(value, key) for (key, value) in word_index.items()])\n",
        "# We decode the review; note that our indices were offset by 3\n",
        "# because 0, 1 and 2 are reserved indices for \"padding\", \"start of sequence\", and \"unknown\".\n",
        "decoded_review = ' '.join([reverse_word_index.get(i - 3, '?') for i in train_data[0]])"
      ],
      "execution_count": 0,
      "outputs": [
        {
          "output_type": "stream",
          "text": [
            "Downloading data from https://storage.googleapis.com/tensorflow/tf-keras-datasets/imdb_word_index.json\n",
            "1646592/1641221 [==============================] - 0s 0us/step\n"
          ],
          "name": "stdout"
        }
      ]
    },
    {
      "cell_type": "code",
      "metadata": {
        "id": "Pzok_NXrIDdH",
        "colab_type": "code",
        "outputId": "fc40c84e-8b17-4f08-f01a-15069707c697",
        "colab": {
          "base_uri": "https://localhost:8080/",
          "height": 55
        }
      },
      "source": [
        "decoded_review"
      ],
      "execution_count": 0,
      "outputs": [
        {
          "output_type": "execute_result",
          "data": {
            "text/plain": [
              "\"? this film was just brilliant casting location scenery story direction everyone's really suited the part they played and you could just imagine being there robert ? is an amazing actor and now the same being director ? father came from the same scottish island as myself so i loved the fact there was a real connection with this film the witty remarks throughout the film were great it was just brilliant so much that i bought the film as soon as it was released for ? and would recommend it to everyone to watch and the fly fishing was amazing really cried at the end it was so sad and you know what they say if you cry at a film it must have been good and this definitely was also ? to the two little boy's that played the ? of norman and paul they were just brilliant children are often left out of the ? list i think because the stars that play them all grown up are such a big profile for the whole film but these children are amazing and should be praised for what they have done don't you think the whole story was so lovely because it was true and was someone's life after all that was shared with us all\""
            ]
          },
          "metadata": {
            "tags": []
          },
          "execution_count": 4
        }
      ]
    },
    {
      "cell_type": "markdown",
      "metadata": {
        "id": "p9eW27fTIkry",
        "colab_type": "text"
      },
      "source": [
        "### Preparing the data\n",
        "We cannot feed lists of integers into a neural network. We have to turn our lists into tensors. There are two ways we could do that:\n",
        "\n",
        "1. We could pad our lists so that they all have the same length, and turn them into an integer tensor of shape (samples, word_indices), then use as first layer in our network a layer capable of handling such integer tensors (the Embedding layer, which we will cover in detail later in the book).\n",
        "2. We could one-hot-encode our lists to turn them into vectors of 0s and 1s. Concretely, this would mean for instance turning the sequence [3, 5] into a 10,000-dimensional vector that would be all-zeros except for indices 3 and 5, which would be ones. Then we could use as first layer in our network a Dense layer, capable of handling floating point vector data.\n",
        "\n",
        "We will go with the latter solution. Let's vectorize our data, which we will do manually."
      ]
    },
    {
      "cell_type": "code",
      "metadata": {
        "id": "5TEJTwu5Iuin",
        "colab_type": "code",
        "colab": {}
      },
      "source": [
        "def vectorize_sequences(sequences, dimension = 10000):\n",
        "    results = np.zeros((len(sequences), dimension))\n",
        "    for i, sequence in enumerate(sequences):\n",
        "        results[i, sequence] = 1.\n",
        "    return results\n",
        "\n",
        "x_train = vectorize_sequences(train_data)\n",
        "x_test  = vectorize_sequences(test_data)"
      ],
      "execution_count": 0,
      "outputs": []
    },
    {
      "cell_type": "markdown",
      "metadata": {
        "id": "LmiM2_aBI3Z1",
        "colab_type": "text"
      },
      "source": [
        "Here's what our samples look like now:"
      ]
    },
    {
      "cell_type": "code",
      "metadata": {
        "id": "j6Bs4MvDI234",
        "colab_type": "code",
        "outputId": "1eaa77ea-07d6-43df-b4a1-5a7501a3b792",
        "colab": {
          "base_uri": "https://localhost:8080/",
          "height": 35
        }
      },
      "source": [
        "x_train[0]"
      ],
      "execution_count": 0,
      "outputs": [
        {
          "output_type": "execute_result",
          "data": {
            "text/plain": [
              "array([0., 1., 1., ..., 0., 0., 0.])"
            ]
          },
          "metadata": {
            "tags": []
          },
          "execution_count": 7
        }
      ]
    },
    {
      "cell_type": "markdown",
      "metadata": {
        "id": "jLro1oq5I-H9",
        "colab_type": "text"
      },
      "source": [
        "We should also vectorize our labels, which is straightforward:"
      ]
    },
    {
      "cell_type": "code",
      "metadata": {
        "id": "ZFdR1tpEI-wf",
        "colab_type": "code",
        "colab": {}
      },
      "source": [
        "y_train = np.asarray(train_labels).astype('float32')\n",
        "y_test  = np.asarray(test_labels).astype('float32')"
      ],
      "execution_count": 0,
      "outputs": []
    },
    {
      "cell_type": "markdown",
      "metadata": {
        "id": "Xq-oQ-y1JBB2",
        "colab_type": "text"
      },
      "source": [
        "### Building the network\n",
        "Our input data is simply vectors, and our labels are scalars (1s and 0s): this is the easiest setup you will ever encounter. A type of network that performs well on such a problem would be a simple stack of fully-connected (`Dense`) layers with `relu` activations: `Dense(16, activation='relu'`)\n",
        "\n",
        "The argument being passed to each `Dense` layer (16) is the number of \"hidden units\" of the layer. Having 16 hidden units means that the weight matrix `W` will have shape (`input_dimension`, 16), i.e. the dot product with `W` will project the input data onto a 16-dimensional representation space (and then we would add the bias vector b and apply the `relu` operation). You can intuitively understand the dimensionality of your representation space as \"how much freedom you are allowing the network to have when learning internal representations\". **Having more hidden units (a higher-dimensional representation space) allows your network to learn more complex representations, but it makes your network more computationally expensive and may lead to learning unwanted patterns (patterns that will improve performance on the training data but not on the test data)**.\n",
        "\n",
        "Here we will use an architecture consisting of two intermediate layers with 16 hidden units each, and a third layer which will output the scalar prediction regarding the sentiment of the current review. The intermediate layers will use `relu` as their activation function, and the final layer will use a `sigmoid` activation so as to output a probability (a score between 0 and 1, indicating how likely the sample is to have the target \"1\", i.e. how likely the review is to be positive). A `relu` is a function meant to zero-out negative values, while a sigmoid \"squashes\" arbitrary values into the [0, 1] interval, thus outputting something that can be interpreted as a probability."
      ]
    },
    {
      "cell_type": "code",
      "metadata": {
        "id": "d7rGq1uAJDQ4",
        "colab_type": "code",
        "colab": {}
      },
      "source": [
        "# Define model\n",
        "model = tf.keras.models.Sequential([\n",
        "  # Layer 1 (Hidden layer)\n",
        "  tf.keras.layers.Dense(16, activation='relu'),\n",
        "  # Layer 2 (Hidden layer)\n",
        "  tf.keras.layers.Dense(16, activation='relu'),\n",
        "  # Layer 3 (Output layer)\n",
        "  tf.keras.layers.Dense(1, activation='sigmoid')\n",
        "])"
      ],
      "execution_count": 0,
      "outputs": []
    },
    {
      "cell_type": "markdown",
      "metadata": {
        "id": "WK-3m2rEJa1U",
        "colab_type": "text"
      },
      "source": [
        "Finally, we need to pick a loss function and an optimizer. Since we are facing a binary classification problem and the output of our network is a probability (we end our network with a single-unit layer with a `sigmoid` activation), is it best to use the `binary_crossentropy` loss. It isn't the only viable choice: you could use, for instance, `mean_squared_error`. But **crossentropy is usually the best choice when you are dealing with models that output probabilities**. Crossentropy is a quantity from the field of Information Theory, that measures the \"distance\" between probability distributions, or in our case, between the ground-truth distribution and our predictions.\n",
        "\n",
        "Here's the step where we configure our model with the `rmsprop` optimizer and the `binary_crossentropy` loss function. Note that we will also monitor accuracy during training."
      ]
    },
    {
      "cell_type": "code",
      "metadata": {
        "id": "fLHHFD5lJWdR",
        "colab_type": "code",
        "colab": {}
      },
      "source": [
        "# Define how to execute training\n",
        "model.compile(optimizer='rmsprop',\n",
        "              loss='binary_crossentropy',\n",
        "              metrics=['accuracy'])"
      ],
      "execution_count": 0,
      "outputs": []
    },
    {
      "cell_type": "markdown",
      "metadata": {
        "id": "NHM5MMAOJgaM",
        "colab_type": "text"
      },
      "source": [
        "### Validation\n",
        "In order to monitor during training the accuracy of the model on data that it has never seen before, we will create a \"validation set\" by setting apart 10,000 samples from the original training data:"
      ]
    },
    {
      "cell_type": "code",
      "metadata": {
        "id": "BzI_xYi1JWlL",
        "colab_type": "code",
        "colab": {}
      },
      "source": [
        "x_val = x_train[:10000]\n",
        "partial_x_train = x_train[10000:]\n",
        "\n",
        "y_val = y_train[:10000]\n",
        "partial_y_train = y_train[10000:]"
      ],
      "execution_count": 0,
      "outputs": []
    },
    {
      "cell_type": "markdown",
      "metadata": {
        "id": "dYIc5QX3Jxkg",
        "colab_type": "text"
      },
      "source": [
        "We will now train our model for 20 epochs (20 iterations over all samples in the `x_train` and `y_train` tensors), in mini-batches of 512 samples. At this same time we will monitor loss and accuracy on the 10,000 samples that we set apart. This is done by passing the validation data as the validation_data argument:"
      ]
    },
    {
      "cell_type": "code",
      "metadata": {
        "id": "X7XTzw8HJx1A",
        "colab_type": "code",
        "outputId": "22cb1892-61e0-4e4f-b5ea-19726a5a0c61",
        "colab": {
          "base_uri": "https://localhost:8080/",
          "height": 726
        }
      },
      "source": [
        "history = model.fit(partial_x_train,\n",
        "                    partial_y_train,\n",
        "                    epochs = 20,\n",
        "                    batch_size = 512,\n",
        "                    validation_data = (x_val, y_val))"
      ],
      "execution_count": 0,
      "outputs": [
        {
          "output_type": "stream",
          "text": [
            "Train on 15000 samples, validate on 10000 samples\n",
            "Epoch 1/20\n",
            "15000/15000 [==============================] - 3s 167us/sample - loss: 0.5378 - accuracy: 0.7837 - val_loss: 0.4326 - val_accuracy: 0.8379\n",
            "Epoch 2/20\n",
            "15000/15000 [==============================] - 2s 113us/sample - loss: 0.3253 - accuracy: 0.9004 - val_loss: 0.3285 - val_accuracy: 0.8746\n",
            "Epoch 3/20\n",
            "15000/15000 [==============================] - 2s 116us/sample - loss: 0.2367 - accuracy: 0.9257 - val_loss: 0.2840 - val_accuracy: 0.8896\n",
            "Epoch 4/20\n",
            "15000/15000 [==============================] - 2s 121us/sample - loss: 0.1854 - accuracy: 0.9415 - val_loss: 0.2824 - val_accuracy: 0.8856\n",
            "Epoch 5/20\n",
            "15000/15000 [==============================] - 2s 113us/sample - loss: 0.1504 - accuracy: 0.9516 - val_loss: 0.2889 - val_accuracy: 0.8830\n",
            "Epoch 6/20\n",
            "15000/15000 [==============================] - 2s 116us/sample - loss: 0.1249 - accuracy: 0.9619 - val_loss: 0.3383 - val_accuracy: 0.8688\n",
            "Epoch 7/20\n",
            "15000/15000 [==============================] - 2s 117us/sample - loss: 0.1040 - accuracy: 0.9697 - val_loss: 0.3073 - val_accuracy: 0.8840\n",
            "Epoch 8/20\n",
            "15000/15000 [==============================] - 2s 113us/sample - loss: 0.0849 - accuracy: 0.9765 - val_loss: 0.3226 - val_accuracy: 0.8840\n",
            "Epoch 9/20\n",
            "15000/15000 [==============================] - 2s 116us/sample - loss: 0.0714 - accuracy: 0.9802 - val_loss: 0.3434 - val_accuracy: 0.8784\n",
            "Epoch 10/20\n",
            "15000/15000 [==============================] - 2s 118us/sample - loss: 0.0583 - accuracy: 0.9853 - val_loss: 0.3657 - val_accuracy: 0.8799\n",
            "Epoch 11/20\n",
            "15000/15000 [==============================] - 2s 113us/sample - loss: 0.0452 - accuracy: 0.9906 - val_loss: 0.3996 - val_accuracy: 0.8777\n",
            "Epoch 12/20\n",
            "15000/15000 [==============================] - 2s 114us/sample - loss: 0.0393 - accuracy: 0.9910 - val_loss: 0.4474 - val_accuracy: 0.8723\n",
            "Epoch 13/20\n",
            "15000/15000 [==============================] - 2s 113us/sample - loss: 0.0296 - accuracy: 0.9945 - val_loss: 0.4592 - val_accuracy: 0.8694\n",
            "Epoch 14/20\n",
            "15000/15000 [==============================] - 2s 113us/sample - loss: 0.0265 - accuracy: 0.9942 - val_loss: 0.4774 - val_accuracy: 0.8717\n",
            "Epoch 15/20\n",
            "15000/15000 [==============================] - 2s 113us/sample - loss: 0.0176 - accuracy: 0.9975 - val_loss: 0.5127 - val_accuracy: 0.8715\n",
            "Epoch 16/20\n",
            "15000/15000 [==============================] - 2s 116us/sample - loss: 0.0154 - accuracy: 0.9975 - val_loss: 0.5439 - val_accuracy: 0.8716\n",
            "Epoch 17/20\n",
            "15000/15000 [==============================] - 2s 115us/sample - loss: 0.0094 - accuracy: 0.9995 - val_loss: 0.7000 - val_accuracy: 0.8534\n",
            "Epoch 18/20\n",
            "15000/15000 [==============================] - 2s 112us/sample - loss: 0.0094 - accuracy: 0.9990 - val_loss: 0.6372 - val_accuracy: 0.8634\n",
            "Epoch 19/20\n",
            "15000/15000 [==============================] - 2s 112us/sample - loss: 0.0049 - accuracy: 0.9999 - val_loss: 0.6706 - val_accuracy: 0.8632\n",
            "Epoch 20/20\n",
            "15000/15000 [==============================] - 2s 111us/sample - loss: 0.0058 - accuracy: 0.9995 - val_loss: 0.6864 - val_accuracy: 0.8677\n"
          ],
          "name": "stdout"
        }
      ]
    },
    {
      "cell_type": "markdown",
      "metadata": {
        "id": "TTOH4XgzJ9jI",
        "colab_type": "text"
      },
      "source": [
        "Note that the call to `model.fit()` returns a `History` object. This object has a member `history`, which is a dictionary containing data about everything that happened during training. It contains 4 entries: one per metric that was being monitored, during training and during validation."
      ]
    },
    {
      "cell_type": "code",
      "metadata": {
        "id": "mkzAoG8uJ-g3",
        "colab_type": "code",
        "outputId": "e05d5a1e-c01f-4f71-a84e-878853ae029a",
        "colab": {
          "base_uri": "https://localhost:8080/",
          "height": 34
        }
      },
      "source": [
        "history_dict = history.history\n",
        "history_dict.keys()"
      ],
      "execution_count": 0,
      "outputs": [
        {
          "output_type": "execute_result",
          "data": {
            "text/plain": [
              "dict_keys(['loss', 'accuracy', 'val_loss', 'val_accuracy'])"
            ]
          },
          "metadata": {
            "tags": []
          },
          "execution_count": 13
        }
      ]
    },
    {
      "cell_type": "markdown",
      "metadata": {
        "id": "ughITdwgKRfu",
        "colab_type": "text"
      },
      "source": [
        "Let's plot the training and validation loss side by side, as well as the training and validation accuracy:"
      ]
    },
    {
      "cell_type": "code",
      "metadata": {
        "id": "wIKJPVxzKSmO",
        "colab_type": "code",
        "colab": {}
      },
      "source": [
        "import seaborn as sns\n",
        "sns.set()\n",
        "\n",
        "train_acc  = history.history['accuracy']\n",
        "train_loss = history.history['loss']\n",
        "val_acc  = history.history['val_accuracy']\n",
        "val_loss = history.history['val_loss']\n",
        "\n",
        "epochs = range(1, len(train_acc) + 1)"
      ],
      "execution_count": 0,
      "outputs": []
    },
    {
      "cell_type": "code",
      "metadata": {
        "id": "nyrJZwUwMi1K",
        "colab_type": "code",
        "outputId": "85c2f722-a7dc-40e8-cd70-471386c11545",
        "colab": {
          "base_uri": "https://localhost:8080/",
          "height": 303
        }
      },
      "source": [
        "plt.plot(epochs, train_loss, label = 'Training Loss')\n",
        "plt.plot(epochs, val_loss, label = 'Validation Loss')\n",
        "plt.xlabel('Epochs')\n",
        "plt.ylabel('Loss')\n",
        "plt.legend()"
      ],
      "execution_count": 0,
      "outputs": [
        {
          "output_type": "execute_result",
          "data": {
            "text/plain": [
              "<matplotlib.legend.Legend at 0x7f164f7a5978>"
            ]
          },
          "metadata": {
            "tags": []
          },
          "execution_count": 15
        },
        {
          "output_type": "display_data",
          "data": {
            "image/png": "[encoded data removed]",
            "text/plain": [
              "<Figure size 432x288 with 1 Axes>"
            ]
          },
          "metadata": {
            "tags": []
          }
        }
      ]
    },
    {
      "cell_type": "code",
      "metadata": {
        "id": "Jt8PUHb3NMiI",
        "colab_type": "code",
        "outputId": "bad5328d-0967-4752-8167-6173e88b40a8",
        "colab": {
          "base_uri": "https://localhost:8080/",
          "height": 303
        }
      },
      "source": [
        "plt.plot(epochs, train_acc, label = 'Training Accuracy')\n",
        "plt.plot(epochs, val_acc, label = 'Validation Accuracy')\n",
        "plt.xlabel('Epochs')\n",
        "plt.ylabel('Accuracy')\n",
        "plt.legend()"
      ],
      "execution_count": 0,
      "outputs": [
        {
          "output_type": "execute_result",
          "data": {
            "text/plain": [
              "<matplotlib.legend.Legend at 0x7f164f6dbc88>"
            ]
          },
          "metadata": {
            "tags": []
          },
          "execution_count": 16
        },
        {
          "output_type": "display_data",
          "data": {
            "image/png": "[encoded data removed]",
            "text/plain": [
              "<Figure size 432x288 with 1 Axes>"
            ]
          },
          "metadata": {
            "tags": []
          }
        }
      ]
    },
    {
      "cell_type": "markdown",
      "metadata": {
        "id": "VdL0PvMjNZox",
        "colab_type": "text"
      },
      "source": [
        "As you can see, the training loss decreases with every epoch and the training accuracy increases with every epoch. That's what you would expect when running gradient descent optimization -- the quantity you are trying to minimize should get lower with every iteration. But that isn't the case for the validation loss and accuracy: they seem to peak at the fourth epoch. This is an example of what we were warning against earlier: a model that performs better on the training data isn't necessarily a model that will do better on data it has never seen before. In precise terms, what you are seeing is \"overfitting\": after the second epoch, we are over-optimizing on the training data, and we ended up learning representations that are specific to the training data and do not generalize to data outside of the training set.\n",
        "\n",
        "In this case, to prevent overfitting, we could simply stop training after three epochs. In general, there is a range of techniques you can leverage to mitigate overfitting, which we will cover in later lectures.\n",
        "\n",
        "Let's train a new network from scratch for four epochs, then evaluate it on our test data:"
      ]
    },
    {
      "cell_type": "code",
      "metadata": {
        "id": "6CECSRScNov7",
        "colab_type": "code",
        "outputId": "2a24614b-c3d3-4335-886a-6707165bf3dc",
        "colab": {
          "base_uri": "https://localhost:8080/",
          "height": 211
        }
      },
      "source": [
        "# Define model\n",
        "model = tf.keras.models.Sequential([\n",
        "  # Layer 1 (Hidden layer)\n",
        "  tf.keras.layers.Dense(16, activation='relu'),\n",
        "  # Layer 2 (Hidden layer)\n",
        "  tf.keras.layers.Dense(16, activation='relu'),\n",
        "  # Layer 3 (Output layer)\n",
        "  tf.keras.layers.Dense(1, activation='sigmoid')\n",
        "])\n",
        "\n",
        "# Define how to execute training\n",
        "model.compile(optimizer='rmsprop',\n",
        "              loss='binary_crossentropy',\n",
        "              metrics=['accuracy'])\n",
        "\n",
        "model.fit(x_train, y_train, epochs = 4, batch_size = 512)\n",
        "results = model.evaluate(x_test, y_test)"
      ],
      "execution_count": 0,
      "outputs": [
        {
          "output_type": "stream",
          "text": [
            "Train on 25000 samples\n",
            "Epoch 1/4\n",
            "25000/25000 [==============================] - 2s 95us/sample - loss: 0.4397 - accuracy: 0.8185\n",
            "Epoch 2/4\n",
            "25000/25000 [==============================] - 2s 81us/sample - loss: 0.2518 - accuracy: 0.9108\n",
            "Epoch 3/4\n",
            "25000/25000 [==============================] - 2s 80us/sample - loss: 0.1967 - accuracy: 0.9295\n",
            "Epoch 4/4\n",
            "25000/25000 [==============================] - 2s 77us/sample - loss: 0.1641 - accuracy: 0.9420\n",
            "25000/25000 [==============================] - 2s 81us/sample - loss: 0.2987 - accuracy: 0.8830\n"
          ],
          "name": "stdout"
        }
      ]
    },
    {
      "cell_type": "code",
      "metadata": {
        "id": "3Vcuis91PhIK",
        "colab_type": "code",
        "outputId": "f5a526ce-0ba2-4787-a1d1-039b563926a4",
        "colab": {
          "base_uri": "https://localhost:8080/",
          "height": 35
        }
      },
      "source": [
        "results"
      ],
      "execution_count": 0,
      "outputs": [
        {
          "output_type": "execute_result",
          "data": {
            "text/plain": [
              "[0.2986567050886154, 0.88304]"
            ]
          },
          "metadata": {
            "tags": []
          },
          "execution_count": 18
        }
      ]
    },
    {
      "cell_type": "markdown",
      "metadata": {
        "id": "nt5iyL-_Pk19",
        "colab_type": "text"
      },
      "source": [
        "Our fairly naive approach achieves an accuracy of 88%. With state-of-the-art approaches, one should be able to get close to 95%."
      ]
    },
    {
      "cell_type": "markdown",
      "metadata": {
        "id": "X4VPJYLLPuvf",
        "colab_type": "text"
      },
      "source": [
        "### Regularization\n",
        "It's clear the model is overfitting. How can we mitigate this? We'll cover 3 ways:\n",
        "1. Reduce network size\n",
        "2. Weight regularization\n",
        "3. Dropout\n",
        "\n",
        "#### Reduce network size\n",
        "One quick way to reduce the complexity of a model is to reduce it's size by decreasing the number of hidden nodes in one or more hidden layers. Let's reduce our number from 16 to 4 and see how it performs.\n"
      ]
    },
    {
      "cell_type": "code",
      "metadata": {
        "id": "JUAHLiRabVv5",
        "colab_type": "code",
        "colab": {}
      },
      "source": [
        "# Define model\n",
        "model2 = tf.keras.models.Sequential([\n",
        "  # Layer 1 (Hidden layer)\n",
        "  tf.keras.layers.Dense(4, activation='relu'),\n",
        "  # Layer 2 (Hidden layer)\n",
        "  tf.keras.layers.Dense(4, activation='relu'),\n",
        "  # Layer 3 (Output layer)\n",
        "  tf.keras.layers.Dense(1, activation='sigmoid')\n",
        "])\n",
        "\n",
        "# Define how to execute training\n",
        "model2.compile(optimizer='rmsprop',\n",
        "              loss='binary_crossentropy',\n",
        "              metrics=['accuracy'])"
      ],
      "execution_count": 0,
      "outputs": []
    },
    {
      "cell_type": "code",
      "metadata": {
        "id": "imPaQiQAbWHD",
        "colab_type": "code",
        "outputId": "81fa85f8-650f-41e6-8b65-ffedf35ce3cd",
        "colab": {
          "base_uri": "https://localhost:8080/",
          "height": 748
        }
      },
      "source": [
        "history2 = model2.fit(partial_x_train,\n",
        "                      partial_y_train,\n",
        "                      epochs=20,\n",
        "                      batch_size=512,\n",
        "                      validation_data=(x_val, y_val))"
      ],
      "execution_count": 0,
      "outputs": [
        {
          "output_type": "stream",
          "text": [
            "Train on 15000 samples, validate on 10000 samples\n",
            "Epoch 1/20\n",
            "15000/15000 [==============================] - 2s 138us/sample - loss: 0.6409 - accuracy: 0.7001 - val_loss: 0.5940 - val_accuracy: 0.7639\n",
            "Epoch 2/20\n",
            "15000/15000 [==============================] - 2s 106us/sample - loss: 0.5524 - accuracy: 0.8245 - val_loss: 0.5273 - val_accuracy: 0.8615\n",
            "Epoch 3/20\n",
            "15000/15000 [==============================] - 2s 110us/sample - loss: 0.4708 - accuracy: 0.8825 - val_loss: 0.4550 - val_accuracy: 0.8597\n",
            "Epoch 4/20\n",
            "15000/15000 [==============================] - 2s 105us/sample - loss: 0.3927 - accuracy: 0.9078 - val_loss: 0.3960 - val_accuracy: 0.8815\n",
            "Epoch 5/20\n",
            "15000/15000 [==============================] - 2s 105us/sample - loss: 0.3249 - accuracy: 0.9229 - val_loss: 0.3584 - val_accuracy: 0.8797\n",
            "Epoch 6/20\n",
            "15000/15000 [==============================] - 2s 106us/sample - loss: 0.2721 - accuracy: 0.9331 - val_loss: 0.3169 - val_accuracy: 0.8900\n",
            "Epoch 7/20\n",
            "15000/15000 [==============================] - 2s 104us/sample - loss: 0.2309 - accuracy: 0.9383 - val_loss: 0.2970 - val_accuracy: 0.8879\n",
            "Epoch 8/20\n",
            "15000/15000 [==============================] - 2s 107us/sample - loss: 0.2006 - accuracy: 0.9445 - val_loss: 0.2834 - val_accuracy: 0.8915\n",
            "Epoch 9/20\n",
            "15000/15000 [==============================] - 2s 108us/sample - loss: 0.1759 - accuracy: 0.9503 - val_loss: 0.2777 - val_accuracy: 0.8901\n",
            "Epoch 10/20\n",
            "15000/15000 [==============================] - 2s 107us/sample - loss: 0.1561 - accuracy: 0.9559 - val_loss: 0.2822 - val_accuracy: 0.8884\n",
            "Epoch 11/20\n",
            "15000/15000 [==============================] - 2s 107us/sample - loss: 0.1387 - accuracy: 0.9605 - val_loss: 0.2822 - val_accuracy: 0.8878\n",
            "Epoch 12/20\n",
            "15000/15000 [==============================] - 2s 107us/sample - loss: 0.1251 - accuracy: 0.9643 - val_loss: 0.2826 - val_accuracy: 0.8876\n",
            "Epoch 13/20\n",
            "15000/15000 [==============================] - 2s 105us/sample - loss: 0.1125 - accuracy: 0.9685 - val_loss: 0.2899 - val_accuracy: 0.8857\n",
            "Epoch 14/20\n",
            "15000/15000 [==============================] - 2s 107us/sample - loss: 0.1017 - accuracy: 0.9723 - val_loss: 0.2964 - val_accuracy: 0.8854\n",
            "Epoch 15/20\n",
            "15000/15000 [==============================] - 2s 105us/sample - loss: 0.0916 - accuracy: 0.9759 - val_loss: 0.3065 - val_accuracy: 0.8839\n",
            "Epoch 16/20\n",
            "15000/15000 [==============================] - 2s 106us/sample - loss: 0.0828 - accuracy: 0.9787 - val_loss: 0.3163 - val_accuracy: 0.8834\n",
            "Epoch 17/20\n",
            "15000/15000 [==============================] - 2s 106us/sample - loss: 0.0748 - accuracy: 0.9818 - val_loss: 0.3283 - val_accuracy: 0.8821\n",
            "Epoch 18/20\n",
            "15000/15000 [==============================] - 2s 108us/sample - loss: 0.0673 - accuracy: 0.9849 - val_loss: 0.3406 - val_accuracy: 0.8824\n",
            "Epoch 19/20\n",
            "15000/15000 [==============================] - 2s 105us/sample - loss: 0.0609 - accuracy: 0.9865 - val_loss: 0.3537 - val_accuracy: 0.8807\n",
            "Epoch 20/20\n",
            "15000/15000 [==============================] - 2s 102us/sample - loss: 0.0544 - accuracy: 0.9886 - val_loss: 0.3677 - val_accuracy: 0.8792\n"
          ],
          "name": "stdout"
        }
      ]
    },
    {
      "cell_type": "code",
      "metadata": {
        "id": "a5Y77GWIbWLC",
        "colab_type": "code",
        "colab": {}
      },
      "source": [
        "import seaborn as sns\n",
        "sns.set()\n",
        "\n",
        "train_acc2  = history2.history['accuracy']\n",
        "train_loss2 = history2.history['loss']\n",
        "val_acc2  = history2.history['val_accuracy']\n",
        "val_loss2 = history2.history['val_loss']\n",
        "\n",
        "epochs = range(1, len(train_acc2) + 1)"
      ],
      "execution_count": 0,
      "outputs": []
    },
    {
      "cell_type": "code",
      "metadata": {
        "id": "THbNNehEbWPJ",
        "colab_type": "code",
        "outputId": "50ef45a7-a1ea-4c6e-a860-69770135a891",
        "colab": {
          "base_uri": "https://localhost:8080/",
          "height": 302
        }
      },
      "source": [
        "plt.plot(epochs, train_loss2, label = 'Training Loss')\n",
        "plt.plot(epochs, val_loss2, label = 'Validation Loss')\n",
        "plt.xlabel('Epochs')\n",
        "plt.ylabel('Loss')\n",
        "plt.legend()"
      ],
      "execution_count": 0,
      "outputs": [
        {
          "output_type": "execute_result",
          "data": {
            "text/plain": [
              "<matplotlib.legend.Legend at 0x7f16a2772cc0>"
            ]
          },
          "metadata": {
            "tags": []
          },
          "execution_count": 22
        },
        {
          "output_type": "display_data",
          "data": {
            "image/png": "[encoded data removed]",
            "text/plain": [
              "<Figure size 432x288 with 1 Axes>"
            ]
          },
          "metadata": {
            "tags": []
          }
        }
      ]
    },
    {
      "cell_type": "code",
      "metadata": {
        "id": "Hd7I1vzf1KEv",
        "colab_type": "code",
        "outputId": "9c506724-4b3e-4b3b-c99d-2dfc792cfe6c",
        "colab": {
          "base_uri": "https://localhost:8080/",
          "height": 303
        }
      },
      "source": [
        "plt.plot(epochs, val_loss, label = 'Original model')\n",
        "plt.plot(epochs, val_loss2, label = 'Simpler model')\n",
        "plt.xlabel('Epochs')\n",
        "plt.ylabel('Loss')\n",
        "plt.legend()"
      ],
      "execution_count": 0,
      "outputs": [
        {
          "output_type": "execute_result",
          "data": {
            "text/plain": [
              "<matplotlib.legend.Legend at 0x7f1640d48400>"
            ]
          },
          "metadata": {
            "tags": []
          },
          "execution_count": 24
        },
        {
          "output_type": "display_data",
          "data": {
            "image/png": "[encoded data removed]",
            "text/plain": [
              "<Figure size 432x288 with 1 Axes>"
            ]
          },
          "metadata": {
            "tags": []
          }
        }
      ]
    },
    {
      "cell_type": "markdown",
      "metadata": {
        "id": "AdARFFNadmS2",
        "colab_type": "text"
      },
      "source": [
        "The smaller network performs better than the original model - it starts to overfit around epoch 10 rather than epoch 5. These values are when the validation loss starts to increase.\n",
        "\n",
        "What happens if we make the model more complex by incrasing 16 to 512?"
      ]
    },
    {
      "cell_type": "code",
      "metadata": {
        "id": "Zg9_p4I6bWS2",
        "colab_type": "code",
        "colab": {}
      },
      "source": [
        "# Define model\n",
        "model3 = tf.keras.models.Sequential([\n",
        "  # Layer 1 (Hidden layer)\n",
        "  tf.keras.layers.Dense(512, activation='relu'),\n",
        "  # Layer 2 (Hidden layer)\n",
        "  tf.keras.layers.Dense(512, activation='relu'),\n",
        "  # Layer 3 (Output layer)\n",
        "  tf.keras.layers.Dense(1, activation='sigmoid')\n",
        "])\n",
        "\n",
        "# Define how to execute training\n",
        "model3.compile(optimizer='rmsprop',\n",
        "              loss='binary_crossentropy',\n",
        "              metrics=['accuracy'])"
      ],
      "execution_count": 0,
      "outputs": []
    },
    {
      "cell_type": "code",
      "metadata": {
        "id": "X5AZh6YDbWXp",
        "colab_type": "code",
        "outputId": "a3aca5f6-084a-4e21-99a3-e1f005bdc033",
        "colab": {
          "base_uri": "https://localhost:8080/",
          "height": 748
        }
      },
      "source": [
        "history3 = model3.fit(partial_x_train,\n",
        "                      partial_y_train,\n",
        "                      epochs=20,\n",
        "                      batch_size=512,\n",
        "                      validation_data=(x_val, y_val))"
      ],
      "execution_count": 0,
      "outputs": [
        {
          "output_type": "stream",
          "text": [
            "Train on 15000 samples, validate on 10000 samples\n",
            "Epoch 1/20\n",
            "15000/15000 [==============================] - 10s 640us/sample - loss: 0.5514 - accuracy: 0.7482 - val_loss: 0.3478 - val_accuracy: 0.8573\n",
            "Epoch 2/20\n",
            "15000/15000 [==============================] - 9s 608us/sample - loss: 0.2354 - accuracy: 0.9091 - val_loss: 0.6483 - val_accuracy: 0.7537\n",
            "Epoch 3/20\n",
            "15000/15000 [==============================] - 9s 609us/sample - loss: 0.1655 - accuracy: 0.9381 - val_loss: 0.3182 - val_accuracy: 0.8801\n",
            "Epoch 4/20\n",
            "15000/15000 [==============================] - 9s 604us/sample - loss: 0.0804 - accuracy: 0.9735 - val_loss: 0.4009 - val_accuracy: 0.8799\n",
            "Epoch 5/20\n",
            "15000/15000 [==============================] - 9s 601us/sample - loss: 0.1110 - accuracy: 0.9757 - val_loss: 0.3370 - val_accuracy: 0.8859\n",
            "Epoch 6/20\n",
            "15000/15000 [==============================] - 9s 600us/sample - loss: 0.0045 - accuracy: 0.9997 - val_loss: 0.5128 - val_accuracy: 0.8878\n",
            "Epoch 7/20\n",
            "15000/15000 [==============================] - 9s 603us/sample - loss: 6.0670e-04 - accuracy: 1.0000 - val_loss: 0.6151 - val_accuracy: 0.8857\n",
            "Epoch 8/20\n",
            "15000/15000 [==============================] - 9s 606us/sample - loss: 9.1692e-05 - accuracy: 1.0000 - val_loss: 0.7464 - val_accuracy: 0.8860\n",
            "Epoch 9/20\n",
            "15000/15000 [==============================] - 9s 601us/sample - loss: 1.5581e-05 - accuracy: 1.0000 - val_loss: 0.8345 - val_accuracy: 0.8846\n",
            "Epoch 10/20\n",
            "15000/15000 [==============================] - 9s 602us/sample - loss: 3.4364e-06 - accuracy: 1.0000 - val_loss: 0.9722 - val_accuracy: 0.8843\n",
            "Epoch 11/20\n",
            "15000/15000 [==============================] - 9s 608us/sample - loss: 9.8629e-07 - accuracy: 1.0000 - val_loss: 1.0093 - val_accuracy: 0.8827\n",
            "Epoch 12/20\n",
            "15000/15000 [==============================] - 9s 602us/sample - loss: 2.7858e-07 - accuracy: 1.0000 - val_loss: 1.0804 - val_accuracy: 0.8832\n",
            "Epoch 13/20\n",
            "15000/15000 [==============================] - 9s 608us/sample - loss: 1.0497e-07 - accuracy: 1.0000 - val_loss: 1.1429 - val_accuracy: 0.8832\n",
            "Epoch 14/20\n",
            "15000/15000 [==============================] - 9s 602us/sample - loss: 4.6667e-08 - accuracy: 1.0000 - val_loss: 1.1904 - val_accuracy: 0.8828\n",
            "Epoch 15/20\n",
            "15000/15000 [==============================] - 9s 611us/sample - loss: 2.7096e-08 - accuracy: 1.0000 - val_loss: 1.2194 - val_accuracy: 0.8828\n",
            "Epoch 16/20\n",
            "15000/15000 [==============================] - 9s 609us/sample - loss: 1.8684e-08 - accuracy: 1.0000 - val_loss: 1.2405 - val_accuracy: 0.8833\n",
            "Epoch 17/20\n",
            "15000/15000 [==============================] - 9s 610us/sample - loss: 1.4242e-08 - accuracy: 1.0000 - val_loss: 1.2570 - val_accuracy: 0.8831\n",
            "Epoch 18/20\n",
            "15000/15000 [==============================] - 9s 606us/sample - loss: 1.1531e-08 - accuracy: 1.0000 - val_loss: 1.2695 - val_accuracy: 0.8827\n",
            "Epoch 19/20\n",
            "15000/15000 [==============================] - 9s 603us/sample - loss: 9.7744e-09 - accuracy: 1.0000 - val_loss: 1.2796 - val_accuracy: 0.8828\n",
            "Epoch 20/20\n",
            "15000/15000 [==============================] - 9s 606us/sample - loss: 8.4973e-09 - accuracy: 1.0000 - val_loss: 1.2891 - val_accuracy: 0.8829\n"
          ],
          "name": "stdout"
        }
      ]
    },
    {
      "cell_type": "code",
      "metadata": {
        "id": "iU9-2DhZd-v2",
        "colab_type": "code",
        "colab": {}
      },
      "source": [
        "train_acc3  = history3.history['accuracy']\n",
        "train_loss3 = history3.history['loss']\n",
        "val_acc3  = history3.history['val_accuracy']\n",
        "val_loss3 = history3.history['val_loss']\n",
        "\n",
        "epochs = range(1, len(train_acc3) + 1)"
      ],
      "execution_count": 0,
      "outputs": []
    },
    {
      "cell_type": "code",
      "metadata": {
        "id": "sTcwS_fBd-0N",
        "colab_type": "code",
        "outputId": "ce106803-a0e7-4348-ce6d-50ae4cacbde5",
        "colab": {
          "base_uri": "https://localhost:8080/",
          "height": 303
        }
      },
      "source": [
        "plt.plot(epochs, train_loss3, label = 'Training Loss')\n",
        "plt.plot(epochs, val_loss3, label = 'Validation Loss')\n",
        "plt.xlabel('Epochs')\n",
        "plt.ylabel('Loss')\n",
        "plt.legend()"
      ],
      "execution_count": 0,
      "outputs": [
        {
          "output_type": "execute_result",
          "data": {
            "text/plain": [
              "<matplotlib.legend.Legend at 0x7f1640afdf28>"
            ]
          },
          "metadata": {
            "tags": []
          },
          "execution_count": 28
        },
        {
          "output_type": "display_data",
          "data": {
            "image/png": "[encoded data removed]",
            "text/plain": [
              "<Figure size 432x288 with 1 Axes>"
            ]
          },
          "metadata": {
            "tags": []
          }
        }
      ]
    },
    {
      "cell_type": "code",
      "metadata": {
        "id": "V1uOXdy63cpc",
        "colab_type": "code",
        "outputId": "23c8e005-879e-499e-f9b4-8afe9dfa4cba",
        "colab": {
          "base_uri": "https://localhost:8080/",
          "height": 302
        }
      },
      "source": [
        "plt.plot(epochs, val_loss, label = 'Original model')\n",
        "plt.plot(epochs, val_loss3, label = 'More complex model')\n",
        "plt.xlabel('Epochs')\n",
        "plt.ylabel('Loss')\n",
        "plt.legend()"
      ],
      "execution_count": 0,
      "outputs": [
        {
          "output_type": "execute_result",
          "data": {
            "text/plain": [
              "<matplotlib.legend.Legend at 0x7f164b3743c8>"
            ]
          },
          "metadata": {
            "tags": []
          },
          "execution_count": 29
        },
        {
          "output_type": "display_data",
          "data": {
            "image/png": "[encoded data removed]",
            "text/plain": [
              "<Figure size 432x288 with 1 Axes>"
            ]
          },
          "metadata": {
            "tags": []
          }
        }
      ]
    },
    {
      "cell_type": "markdown",
      "metadata": {
        "id": "jYfOftc6ePL5",
        "colab_type": "text"
      },
      "source": [
        "The original model performs better than the more complex model with many more hidden nodes.\n",
        "\n",
        "#### Weight regularization\n"
      ]
    },
    {
      "cell_type": "code",
      "metadata": {
        "id": "LEKy34RId-5I",
        "colab_type": "code",
        "colab": {}
      },
      "source": [
        "# L2 model\n",
        "l2_model = tf.keras.models.Sequential([\n",
        "  # Layer 1 (Hidden layer)\n",
        "  tf.keras.layers.Dense(16, activation='relu', \n",
        "                        kernel_regularizer = tf.keras.regularizers.l2(0.001)),\n",
        "  # Layer 2 (Hidden layer)\n",
        "  tf.keras.layers.Dense(16, activation='relu', \n",
        "                        kernel_regularizer = tf.keras.regularizers.l2(0.001)),\n",
        "  # Layer 3 (Output layer)\n",
        "  tf.keras.layers.Dense(1, activation='sigmoid')\n",
        "])\n",
        "\n",
        "# Define how to execute training\n",
        "l2_model.compile(optimizer='rmsprop',\n",
        "                 loss='binary_crossentropy',\n",
        "                 metrics=['accuracy'])"
      ],
      "execution_count": 0,
      "outputs": []
    },
    {
      "cell_type": "code",
      "metadata": {
        "id": "e30wFQNeeZpR",
        "colab_type": "code",
        "outputId": "121ed499-93cf-44df-c936-6d57efa7f21c",
        "colab": {
          "base_uri": "https://localhost:8080/",
          "height": 714
        }
      },
      "source": [
        "l2_model_hist = l2_model.fit(x_train, y_train,\n",
        "                             epochs=20,\n",
        "                             batch_size=512,\n",
        "                             validation_data=(x_test, y_test))"
      ],
      "execution_count": 0,
      "outputs": [
        {
          "output_type": "stream",
          "text": [
            "Train on 25000 samples, validate on 25000 samples\n",
            "Epoch 1/20\n",
            "25000/25000 [==============================] - 4s 152us/sample - loss: 0.5219 - accuracy: 0.8150 - val_loss: 0.4092 - val_accuracy: 0.8712\n",
            "Epoch 2/20\n",
            "25000/25000 [==============================] - 3s 131us/sample - loss: 0.3321 - accuracy: 0.9032 - val_loss: 0.3520 - val_accuracy: 0.8802\n",
            "Epoch 3/20\n",
            "25000/25000 [==============================] - 3s 131us/sample - loss: 0.2773 - accuracy: 0.9178 - val_loss: 0.3328 - val_accuracy: 0.8862\n",
            "Epoch 4/20\n",
            "25000/25000 [==============================] - 3s 134us/sample - loss: 0.2542 - accuracy: 0.9285 - val_loss: 0.3492 - val_accuracy: 0.8786\n",
            "Epoch 5/20\n",
            "25000/25000 [==============================] - 3s 132us/sample - loss: 0.2389 - accuracy: 0.9318 - val_loss: 0.3678 - val_accuracy: 0.8722\n",
            "Epoch 6/20\n",
            "25000/25000 [==============================] - 3s 132us/sample - loss: 0.2303 - accuracy: 0.9364 - val_loss: 0.3437 - val_accuracy: 0.8842\n",
            "Epoch 7/20\n",
            "25000/25000 [==============================] - 3s 134us/sample - loss: 0.2218 - accuracy: 0.9405 - val_loss: 0.3602 - val_accuracy: 0.8772\n",
            "Epoch 8/20\n",
            "25000/25000 [==============================] - 3s 132us/sample - loss: 0.2185 - accuracy: 0.9415 - val_loss: 0.3588 - val_accuracy: 0.8777\n",
            "Epoch 9/20\n",
            "25000/25000 [==============================] - 3s 130us/sample - loss: 0.2139 - accuracy: 0.9415 - val_loss: 0.3627 - val_accuracy: 0.8780\n",
            "Epoch 10/20\n",
            "25000/25000 [==============================] - 3s 130us/sample - loss: 0.2098 - accuracy: 0.9448 - val_loss: 0.3764 - val_accuracy: 0.8744\n",
            "Epoch 11/20\n",
            "25000/25000 [==============================] - 3s 131us/sample - loss: 0.2028 - accuracy: 0.9482 - val_loss: 0.3797 - val_accuracy: 0.8730\n",
            "Epoch 12/20\n",
            "25000/25000 [==============================] - 3s 133us/sample - loss: 0.2029 - accuracy: 0.9458 - val_loss: 0.3941 - val_accuracy: 0.8706\n",
            "Epoch 13/20\n",
            "25000/25000 [==============================] - 3s 132us/sample - loss: 0.1964 - accuracy: 0.9497 - val_loss: 0.3859 - val_accuracy: 0.8734\n",
            "Epoch 14/20\n",
            "25000/25000 [==============================] - 3s 131us/sample - loss: 0.1979 - accuracy: 0.9464 - val_loss: 0.4079 - val_accuracy: 0.8692\n",
            "Epoch 15/20\n",
            "25000/25000 [==============================] - 3s 131us/sample - loss: 0.1942 - accuracy: 0.9500 - val_loss: 0.4526 - val_accuracy: 0.8608\n",
            "Epoch 16/20\n",
            "25000/25000 [==============================] - 3s 132us/sample - loss: 0.1939 - accuracy: 0.9486 - val_loss: 0.4155 - val_accuracy: 0.8696\n",
            "Epoch 17/20\n",
            "25000/25000 [==============================] - 3s 130us/sample - loss: 0.1875 - accuracy: 0.9530 - val_loss: 0.4621 - val_accuracy: 0.8590\n",
            "Epoch 18/20\n",
            "25000/25000 [==============================] - 3s 131us/sample - loss: 0.1878 - accuracy: 0.9516 - val_loss: 0.4092 - val_accuracy: 0.8704\n",
            "Epoch 19/20\n",
            "25000/25000 [==============================] - 3s 132us/sample - loss: 0.1899 - accuracy: 0.9504 - val_loss: 0.4286 - val_accuracy: 0.8650\n",
            "Epoch 20/20\n",
            "25000/25000 [==============================] - 3s 125us/sample - loss: 0.1881 - accuracy: 0.9539 - val_loss: 0.4381 - val_accuracy: 0.8659\n"
          ],
          "name": "stdout"
        }
      ]
    },
    {
      "cell_type": "code",
      "metadata": {
        "id": "iXPMbdi9eZsQ",
        "colab_type": "code",
        "colab": {}
      },
      "source": [
        "train_accl2  = l2_model_hist.history['accuracy']\n",
        "train_lossl2 = l2_model_hist.history['loss']\n",
        "val_accl2  = l2_model_hist.history['val_accuracy']\n",
        "val_lossl2 = l2_model_hist.history['val_loss']\n",
        "\n",
        "epochs = range(1, len(train_accl2) + 1)"
      ],
      "execution_count": 0,
      "outputs": []
    },
    {
      "cell_type": "code",
      "metadata": {
        "id": "3oW8w_IQeZvR",
        "colab_type": "code",
        "outputId": "51d3c821-9312-49f7-f985-24885439e544",
        "colab": {
          "base_uri": "https://localhost:8080/",
          "height": 302
        }
      },
      "source": [
        "plt.plot(epochs, val_loss, label = 'Original model')\n",
        "plt.plot(epochs, val_lossl2, label = 'L2 model')\n",
        "plt.xlabel('Epochs')\n",
        "plt.ylabel('Loss')\n",
        "plt.legend()"
      ],
      "execution_count": 0,
      "outputs": [
        {
          "output_type": "execute_result",
          "data": {
            "text/plain": [
              "<matplotlib.legend.Legend at 0x7fbb4f161f98>"
            ]
          },
          "metadata": {
            "tags": []
          },
          "execution_count": 29
        },
        {
          "output_type": "display_data",
          "data": {
            "image/png": "[encoded data removed]",
            "text/plain": [
              "<Figure size 432x288 with 1 Axes>"
            ]
          },
          "metadata": {
            "tags": []
          }
        }
      ]
    },
    {
      "cell_type": "markdown",
      "metadata": {
        "id": "sbTg3fNFeZ_Q",
        "colab_type": "text"
      },
      "source": [
        "#### Dropout\n"
      ]
    },
    {
      "cell_type": "code",
      "metadata": {
        "id": "60v22G5houfW",
        "colab_type": "code",
        "colab": {}
      },
      "source": [
        "# Dropout model\n",
        "dmodel = tf.keras.models.Sequential([\n",
        "  # Layer 1 (Hidden layer)\n",
        "  tf.keras.layers.Dense(16, activation='relu'),\n",
        "  # Dropout layer\n",
        "  tf.keras.layers.Dropout(0.5),\n",
        "  # Layer 2 (Hidden layer)\n",
        "  tf.keras.layers.Dense(16, activation='relu'),\n",
        "  # Dropout layer\n",
        "  tf.keras.layers.Dropout(0.5),\n",
        "  # Layer 3 (Output layer)\n",
        "  tf.keras.layers.Dense(1, activation='sigmoid')\n",
        "])\n",
        "\n",
        "# Define how to execute training\n",
        "dmodel.compile(optimizer='rmsprop',\n",
        "               loss='binary_crossentropy',\n",
        "               metrics=['accuracy'])"
      ],
      "execution_count": 0,
      "outputs": []
    },
    {
      "cell_type": "code",
      "metadata": {
        "id": "akaY_Q4gouoR",
        "colab_type": "code",
        "outputId": "7bd3e3a7-dd4a-4373-f62b-bfeef421b6b2",
        "colab": {
          "base_uri": "https://localhost:8080/",
          "height": 725
        }
      },
      "source": [
        "d_model_hist = dmodel.fit(x_train, y_train,\n",
        "                             epochs=20,\n",
        "                             batch_size=512,\n",
        "                             validation_data=(x_test, y_test))"
      ],
      "execution_count": 0,
      "outputs": [
        {
          "output_type": "stream",
          "text": [
            "Train on 25000 samples, validate on 25000 samples\n",
            "Epoch 1/20\n",
            "25000/25000 [==============================] - 6s 254us/sample - loss: 0.6068 - accuracy: 0.6710 - val_loss: 0.4630 - val_accuracy: 0.8435\n",
            "Epoch 2/20\n",
            "25000/25000 [==============================] - 3s 119us/sample - loss: 0.4510 - accuracy: 0.8090 - val_loss: 0.3346 - val_accuracy: 0.8824\n",
            "Epoch 3/20\n",
            "25000/25000 [==============================] - 3s 119us/sample - loss: 0.3542 - accuracy: 0.8644 - val_loss: 0.2871 - val_accuracy: 0.8893\n",
            "Epoch 4/20\n",
            "25000/25000 [==============================] - 3s 118us/sample - loss: 0.2949 - accuracy: 0.8908 - val_loss: 0.2765 - val_accuracy: 0.8895\n",
            "Epoch 5/20\n",
            "25000/25000 [==============================] - 3s 117us/sample - loss: 0.2549 - accuracy: 0.9106 - val_loss: 0.2852 - val_accuracy: 0.8866\n",
            "Epoch 6/20\n",
            "25000/25000 [==============================] - 3s 118us/sample - loss: 0.2285 - accuracy: 0.9173 - val_loss: 0.2862 - val_accuracy: 0.8864\n",
            "Epoch 7/20\n",
            "25000/25000 [==============================] - 3s 116us/sample - loss: 0.2026 - accuracy: 0.9278 - val_loss: 0.3042 - val_accuracy: 0.8862\n",
            "Epoch 8/20\n",
            "25000/25000 [==============================] - 3s 116us/sample - loss: 0.1914 - accuracy: 0.9334 - val_loss: 0.3230 - val_accuracy: 0.8821\n",
            "Epoch 9/20\n",
            "25000/25000 [==============================] - 3s 114us/sample - loss: 0.1703 - accuracy: 0.9399 - val_loss: 0.3433 - val_accuracy: 0.8830\n",
            "Epoch 10/20\n",
            "25000/25000 [==============================] - 3s 113us/sample - loss: 0.1568 - accuracy: 0.9448 - val_loss: 0.3599 - val_accuracy: 0.8832\n",
            "Epoch 11/20\n",
            "25000/25000 [==============================] - 3s 115us/sample - loss: 0.1519 - accuracy: 0.9444 - val_loss: 0.3876 - val_accuracy: 0.8796\n",
            "Epoch 12/20\n",
            "25000/25000 [==============================] - 3s 116us/sample - loss: 0.1395 - accuracy: 0.9492 - val_loss: 0.4181 - val_accuracy: 0.8799\n",
            "Epoch 13/20\n",
            "25000/25000 [==============================] - 3s 114us/sample - loss: 0.1362 - accuracy: 0.9512 - val_loss: 0.4277 - val_accuracy: 0.8789\n",
            "Epoch 14/20\n",
            "25000/25000 [==============================] - 3s 115us/sample - loss: 0.1275 - accuracy: 0.9530 - val_loss: 0.4617 - val_accuracy: 0.8769\n",
            "Epoch 15/20\n",
            "25000/25000 [==============================] - 3s 114us/sample - loss: 0.1241 - accuracy: 0.9522 - val_loss: 0.4852 - val_accuracy: 0.8774\n",
            "Epoch 16/20\n",
            "25000/25000 [==============================] - 3s 114us/sample - loss: 0.1173 - accuracy: 0.9563 - val_loss: 0.5363 - val_accuracy: 0.8756\n",
            "Epoch 17/20\n",
            "25000/25000 [==============================] - 3s 116us/sample - loss: 0.1177 - accuracy: 0.9561 - val_loss: 0.5498 - val_accuracy: 0.8772\n",
            "Epoch 18/20\n",
            "25000/25000 [==============================] - 3s 115us/sample - loss: 0.1092 - accuracy: 0.9562 - val_loss: 0.5446 - val_accuracy: 0.8761\n",
            "Epoch 19/20\n",
            "25000/25000 [==============================] - 3s 115us/sample - loss: 0.1146 - accuracy: 0.9573 - val_loss: 0.5685 - val_accuracy: 0.8731\n",
            "Epoch 20/20\n",
            "25000/25000 [==============================] - 3s 116us/sample - loss: 0.1077 - accuracy: 0.9580 - val_loss: 0.5939 - val_accuracy: 0.8748\n"
          ],
          "name": "stdout"
        }
      ]
    },
    {
      "cell_type": "code",
      "metadata": {
        "id": "DtzoYnKAourC",
        "colab_type": "code",
        "colab": {}
      },
      "source": [
        "train_accd  = d_model_hist.history['accuracy']\n",
        "train_lossd = d_model_hist.history['loss']\n",
        "val_accd  = d_model_hist.history['val_accuracy']\n",
        "val_lossd = d_model_hist.history['val_loss']\n",
        "\n",
        "epochs = range(1, len(train_accl2) + 1)"
      ],
      "execution_count": 0,
      "outputs": []
    },
    {
      "cell_type": "code",
      "metadata": {
        "id": "FyWw8EDYoutf",
        "colab_type": "code",
        "outputId": "6ca61e6b-b0f8-4ffb-e577-5deb5b971477",
        "colab": {
          "base_uri": "https://localhost:8080/",
          "height": 302
        }
      },
      "source": [
        "plt.plot(epochs, val_loss, label = 'Original model')\n",
        "plt.plot(epochs, val_lossd, label = 'Dropout model')\n",
        "plt.xlabel('Epochs')\n",
        "plt.ylabel('Loss')\n",
        "plt.legend()"
      ],
      "execution_count": 0,
      "outputs": [
        {
          "output_type": "execute_result",
          "data": {
            "text/plain": [
              "<matplotlib.legend.Legend at 0x7fbb6067bf60>"
            ]
          },
          "metadata": {
            "tags": []
          },
          "execution_count": 33
        },
        {
          "output_type": "display_data",
          "data": {
            "image/png": "[encoded data removed]",
            "text/plain": [
              "<Figure size 432x288 with 1 Axes>"
            ]
          },
          "metadata": {
            "tags": []
          }
        }
      ]
    }
  ]
}